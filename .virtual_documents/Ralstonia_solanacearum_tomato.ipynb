





# Anaconda commands

#to add channel in base :
conda config --add channels bioconda

#List of configured channels:
conda config --show channels

#Remove channel:
conda config --remove channel_name

#create an environment:
conda create -n suraj_20

#List of existing environments:
conda env list

#to activate an environment:
conda activate suraj_20

#to deactivate and return to base:
conda deactivate

#Installing a tool:
conda install -c bioconda fastqc

# to remove an environment
conda remove --name ENV_NAME --all


# Step 1
# To download fastqc
conda install -c bioconda fastqc
fastqc --help



#fastqc command
!fastqc *.fastq -o ..Results/fastq



# Step 2
# Filtering the data
# for that i have used trimmomatic: 





# to install trimmomatic:
conda install -c bioconda trimmomatic
!trimmomatic --help





trimmomatic PE G1_R1.fastq G1_R2.fastq \
../../Results/trimmomatic/G1_R1_paired.fastq.gz \
../../Results/trimmomatic/G1_R1_unpaired.fastq.gz \
../../Results/trimmomatic/G1_R2_paired.fastq.gz \
../../Results/trimmomatic/G1_R2_unpaired.fastq.gz \
SLIDINGWINDOW:4:20 MINLEN:25 ILLUMINACLIP:NexteraPE-PE.fa:2:40:15












# Create a new conda environment named spades_env
conda create -n spades_env -c bioconda spades -y

# Activate the environment
conda activate spades_env

# Confirm installation
spades.py --version


# After quality trimming with Trimmomatic, I ran the following command:
spades.py \
-1 ../../Results/trimmomatic/G1_R1_paired.fastq.gz \
-2 ../../Results/trimmomatic/G1_R2_paired.fastq.gz \
-o ../../Results/spades_assembly


# I used tmux to prevent loss of progress in case of disconnection during the long SPAdes run:

tmux new -s spades_session

#After launching SPAdes inside the session, I detached using Ctrl + B then D. This allowed the job to continue running safely in the background even after I logged out.









# QUAST (Quality Assessment Tool): installation 

#To run QUAST smoothly, I created a dedicated Conda environment:

conda create -n quast_env -c bioconda quast -y
conda activate quast_env





#Quast command: 
quast.py \
./Results/spades_assembly/ragtag_scaffolded_GMI1000/ragtag.scaffold.fasta \
-o quast_ragtag_only_report_mac \
-l "RagTag Scaffolded Assembly" \
--min-contig 0






# Pull the BUSCO image (only once)
docker pull ezlabgva/busco:v5.8.2_cv1

# Run BUSCO using Docker
docker run \
  --platform linux/amd64 \
  -u $(id -u) \
  -v "$(pwd)":/busco_wd \
  ezlabgva/busco:v5.8.2_cv1 \
  busco \
  -i /busco_wd/Ralstonia_rathi_ragtag.fna \
  -o busco_results_for_ralstonia_ragtag \
  -m genome \
  -l bacteria_odb10 \
  -f



# The way another than docker
# Create a dedicated environment
conda create -n busco_env -c bioconda -c conda-forge busco=5.4.3 -y
conda activate busco_env

# Download lineage dataset (e.g., for bacteria)
busco download --lineage bacteria_odb10







