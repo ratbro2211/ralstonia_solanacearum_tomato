{
 "cells": [
  {
   "cell_type": "markdown",
   "id": "a3fd8cc6-e8ba-4d99-944c-81d75a26182c",
   "metadata": {},
   "source": [
    "**This notebook covers all the code and operations performed during Ralstonia Solanacearum annotation project**"
   ]
  },
  {
   "cell_type": "markdown",
   "id": "26abd542-7288-4338-bdde-e8cfda324ee3",
   "metadata": {},
   "source": [
    "# Checking the quality of sequence : Fastq\n",
    "# for downloading, i have created a conda environment \"suraj_20\".\n",
    "# To make a environment:\n",
    "conda create -n suraj_20\n",
    "# Conda channels (a URL ) where conda look for packages.\n",
    "\n",
    "#URLs\n",
    "# defaults: \n",
    "[https://repo.anaconda.com/pkgs/main](https://repo.anaconda.com/pkgs/main)\n",
    "\n",
    "#conda-forge:\n",
    "[https://conda.anaconda.org/conda-forge](https://conda.anaconda.org/conda-forge)\n",
    "\n",
    "#bioconda:\n",
    "[https://conda.anaconda.org/bioconda](https://conda.anaconda.org/bioconda) \n",
    "\n",
    "#r:\n",
    "[https://conda.anaconda.org/r](https://conda.anaconda.org/r) \n",
    "\n",
    "#anaconda:\n",
    "[https://conda.anaconda.org/anaconda](https://conda.anaconda.org/anaconda) \n",
    "\n",
    "# 1. conda-forge\n",
    "# 2. bioconda: for biological processes:\n",
    "# ipykernel\n",
    "# !Jupyterlab"
   ]
  },
  {
   "cell_type": "code",
   "execution_count": null,
   "id": "a26a1e7b-2721-4369-9377-9c5f8188c96a",
   "metadata": {},
   "outputs": [],
   "source": [
    "# Anaconda commands\n",
    "\n",
    "#to add channel in base :\n",
    "conda config --add channels bioconda\n",
    "\n",
    "#List of configured channels:\n",
    "conda config --show channels\n",
    "\n",
    "#Remove channel:\n",
    "conda config --remove channel_name\n",
    "\n",
    "#create an environment:\n",
    "conda create -n suraj_20\n",
    "\n",
    "#List of existing environments:\n",
    "conda env list\n",
    "\n",
    "#to activate an environment:\n",
    "conda activate suraj_20\n",
    "\n",
    "#to deactivate and return to base:\n",
    "conda deactivate\n",
    "\n",
    "#Installing a tool:\n",
    "conda install -c bioconda fastqc\n",
    "\n",
    "# to remove an environment\n",
    "conda remove --name ENV_NAME --all"
   ]
  },
  {
   "cell_type": "code",
   "execution_count": null,
   "id": "f1c15ead-481a-496e-bccc-8986647bb5ec",
   "metadata": {},
   "outputs": [],
   "source": [
    "# Step 1\n",
    "# To download fastqc\n",
    "conda install -c bioconda fastqc\n",
    "fastqc --help\n"
   ]
  },
  {
   "cell_type": "code",
   "execution_count": null,
   "id": "bed0f466-e073-45c3-82a9-2e560a946ecd",
   "metadata": {},
   "outputs": [],
   "source": [
    "#fastqc command\n",
    "!fastqc *.fastq -o ..Results/fastq\n"
   ]
  },
  {
   "cell_type": "code",
   "execution_count": null,
   "id": "c4736796-6a75-49cb-a9e4-a6d495eb8729",
   "metadata": {},
   "outputs": [],
   "source": [
    "# Step 2\n",
    "# Filtering the data\n",
    "# for that i have used trimmomatic: "
   ]
  },
  {
   "cell_type": "markdown",
   "id": "ac031122-69e0-47f3-8198-34a47ceec7e7",
   "metadata": {},
   "source": [
    "## Trimmomatic\n",
    "\n",
    "Trimmomatic is a fast, flexible tool designed for trimming Illumina NGS data. It removes low-quality bases, adapter contamination, and short reads to improve downstream analysis like genome assembly or alignment. It supports both single-end and paired-end data.\n",
    "\n",
    "In this pipeline, Trimmomatic was used to:\n",
    "- Remove Illumina adapter sequences\n",
    "- Trim low-quality bases from the read ends\n",
    "- Discard very short reads"
   ]
  },
  {
   "cell_type": "code",
   "execution_count": null,
   "id": "d9d520ff-3a11-4cc0-893b-52dff7406e1e",
   "metadata": {},
   "outputs": [],
   "source": [
    "# to install trimmomatic:\n",
    "conda install -c bioconda trimmomatic\n",
    "!trimmomatic --help"
   ]
  },
  {
   "cell_type": "raw",
   "id": "00a20770-b433-4544-8776-78bdd6745d1c",
   "metadata": {},
   "source": [
    "## 🔧 Trimmomatic Command for Paired-End Read Trimming\n",
    "\n",
    "This command runs **Trimmomatic** to clean paired-end sequencing reads by:\n",
    "- Removing adapter contamination\n",
    "- Trimming low-quality regions\n",
    "- Discarding short reads"
   ]
  },
  {
   "cell_type": "code",
   "execution_count": null,
   "id": "701daa03-0f41-43b6-86d2-811a9c5f3762",
   "metadata": {},
   "outputs": [],
   "source": [
    "trimmomatic PE G1_R1.fastq G1_R2.fastq \\\n",
    "../../Results/trimmomatic/G1_R1_paired.fastq.gz \\\n",
    "../../Results/trimmomatic/G1_R1_unpaired.fastq.gz \\\n",
    "../../Results/trimmomatic/G1_R2_paired.fastq.gz \\\n",
    "../../Results/trimmomatic/G1_R2_unpaired.fastq.gz \\\n",
    "SLIDINGWINDOW:4:20 MINLEN:25 ILLUMINACLIP:NexteraPE-PE.fa:2:40:15\n"
   ]
  },
  {
   "cell_type": "markdown",
   "id": "1412f9f2-2de8-4079-b7f8-ef6d033336dd",
   "metadata": {},
   "source": [
    "### Command Explanation:\n",
    "PE – Run mode: Paired-End\n",
    "\n",
    "Input – G1_R1.fastq and G1_R2.fastq\n",
    "\n",
    "Output (paired) – Cleaned paired reads\n",
    "\n",
    "Output (unpaired) – Reads whose mates were discarded\n",
    "\n",
    "SLIDINGWINDOW:4:20 – Trim when 4-base window average quality < 20\n",
    "\n",
    "MINLEN:25 – Drop reads shorter than 25 bases\n",
    "\n",
    "ILLUMINACLIP – Remove Nextera adapters using the adapter file"
   ]
  },
  {
   "cell_type": "markdown",
   "id": "c7906782-603a-49ba-8301-6e56de23897c",
   "metadata": {},
   "source": [
    "**Step 3**\n",
    "**Genome Assembly**\n",
    "\n",
    "## 🧬 What is Genome Assembly?\n",
    "\n",
    "**Genome assembly** is the process of putting together short DNA sequences (called **reads**) generated by sequencing machines into longer sequences that represent the original genome.\n",
    "\n",
    "Think of it like solving a jigsaw puzzle:\n",
    "- Each read is a small puzzle piece.\n",
    "- Assembly algorithms figure out how these pieces fit together based on overlapping regions.\n",
    "\n",
    "### Why Is It Needed?\n",
    "\n",
    "Sequencing machines (like Illumina) cannot read an entire genome in one go. Instead, they break it into millions of short reads, and genome assembly helps to:\n",
    "\n",
    "- **Reconstruct the full genome** from these reads\n",
    "- **Identify genes, mutations, and structure**\n",
    "- **Enable annotation, comparison, and evolutionary analysis**\n",
    "\n",
    "### Types of Assembly\n",
    "\n",
    "**De novo** : Builds genome from reads **without any reference** \n",
    "**Reference-based** :  Aligns reads to a **known reference genome** \n",
    "\n",
    "In this project, we used **de novo assembly** with the tool **SPAdes** to assemble our Ralstonia genome without using a reference.\n"
   ]
  },
  {
   "cell_type": "markdown",
   "id": "7a819c56-5d6b-4df3-9026-53bc3159829b",
   "metadata": {},
   "source": [
    "## 🧬 SPAdes Assembly – Run on Google Cloud Virtual Machine (VM)\n",
    "\n",
    "Running **SPAdes** for de novo genome assembly is computationally intensive and can take several hours. It is not ideal for local systems due to high memory and CPU requirements. Therefore, I used a **Google Cloud Virtual Machine (VM)** to perform the assembly process.\n",
    "\n",
    "---\n",
    "\n",
    "### 🖥️ VM Configuration\n",
    "\n",
    "I configured the VM with:\n",
    "- **4 vCPUs**\n",
    "- **16 GB RAM**\n",
    "\n",
    "This machine type handled SPAdes efficiently. The entire assembly process took **around 8 hours**, which is expected for medium-sized bacterial genomes.\n",
    "\n",
    "---\n",
    "\n",
    "### SPAdes Installation (Download on VM)\n",
    "\n",
    "Since SPAdes is not pre-installed, I first created a clean conda environment and then installed SPAdes using Bioconda:"
   ]
  },
  {
   "cell_type": "code",
   "execution_count": null,
   "id": "6468d045-ba0b-41aa-878d-c8f6e8c159f8",
   "metadata": {},
   "outputs": [],
   "source": [
    "# Create a new conda environment named spades_env\n",
    "conda create -n spades_env -c bioconda spades -y\n",
    "\n",
    "# Activate the environment\n",
    "conda activate spades_env\n",
    "\n",
    "# Confirm installation\n",
    "spades.py --version"
   ]
  },
  {
   "cell_type": "code",
   "execution_count": null,
   "id": "22b346c6-e5a8-40c6-850f-771f19e17c87",
   "metadata": {},
   "outputs": [],
   "source": [
    "# After quality trimming with Trimmomatic, I ran the following command:\n",
    "spades.py \\\n",
    "-1 ../../Results/trimmomatic/G1_R1_paired.fastq.gz \\\n",
    "-2 ../../Results/trimmomatic/G1_R2_paired.fastq.gz \\\n",
    "-o ../../Results/spades_assembly"
   ]
  },
  {
   "cell_type": "code",
   "execution_count": null,
   "id": "283db742-fcef-42a3-bb4c-a37de066b0a1",
   "metadata": {},
   "outputs": [],
   "source": [
    "# I used tmux to prevent loss of progress in case of disconnection during the long SPAdes run:\n",
    "\n",
    "tmux new -s spades_session\n",
    "\n",
    "#After launching SPAdes inside the session, I detached using Ctrl + B then D. This allowed the job to continue running safely in the background even after I logged out.\n"
   ]
  },
  {
   "cell_type": "markdown",
   "id": "45ef90ab-839d-4dcc-b29a-63a24df6ff03",
   "metadata": {},
   "source": [
    "**Spades Output files**: \n",
    "\n",
    "**contigs.fasta**: Contiguous sequences\n",
    "\n",
    "**scaffolds.fasta**: Scaffolded sequences (using paired-end data)\n",
    "\n",
    "**spades.log**: Log file of the assembly\n",
    "\n"
   ]
  },
  {
   "cell_type": "markdown",
   "id": "73fa1bcf-efe7-4e6a-b221-53c32f3c71b7",
   "metadata": {},
   "source": [
    "**Step 4**\n",
    "\n",
    "## 🧪 Quality Check of SPAdes Assembly\n",
    "\n",
    "After completing the SPAdes assembly, I performed quality checks using two tools:\n",
    "\n",
    "1. **QUAST** – to assess the structural quality of the assembly\n",
    "2. **BUSCO** – to check the biological completeness using conserved single-copy genes"
   ]
  },
  {
   "cell_type": "code",
   "execution_count": null,
   "id": "c8f7f298-0752-4f07-bf0a-2d92acc290c5",
   "metadata": {},
   "outputs": [],
   "source": [
    "# QUAST (Quality Assessment Tool): installation \n",
    "\n",
    "#To run QUAST smoothly, I created a dedicated Conda environment:\n",
    "\n",
    "conda create -n quast_env -c bioconda quast -y\n",
    "conda activate quast_env"
   ]
  },
  {
   "cell_type": "markdown",
   "id": "2c787ae7-f410-49da-8db6-3c6e0184e6ee",
   "metadata": {},
   "source": [
    "QUAST helps evaluate how well the genome is assembled based on metrics like:\n",
    "\n",
    "N50, L50: measure contiguity of contigs\n",
    "\n",
    "Total length of the assembly\n",
    "\n",
    "Number of contigs\n",
    "\n",
    "GC content\n",
    "\n",
    "Largest contig size"
   ]
  },
  {
   "cell_type": "code",
   "execution_count": null,
   "id": "dec281ac-6a9f-40d9-8ff6-8709aac185ac",
   "metadata": {},
   "outputs": [],
   "source": [
    "#Quast command: \n",
    "quast.py \\\n",
    "./Results/spades_assembly/ragtag_scaffolded_GMI1000/ragtag.scaffold.fasta \\\n",
    "-o quast_ragtag_only_report_mac \\\n",
    "-l \"RagTag Scaffolded Assembly\" \\\n",
    "--min-contig 0\n"
   ]
  },
  {
   "cell_type": "markdown",
   "id": "c9e6ba18-ac5c-4e36-80ce-a8c5f5a61f32",
   "metadata": {},
   "source": [
    "## 🧬 BUSCO – Biological Completeness Assessment\n",
    "\n",
    "**BUSCO** (Benchmarking Universal Single-Copy Orthologs) is a powerful tool used to assess the **completeness** of a genome assembly or gene annotation. It checks for the presence of genes that are **highly conserved and expected to be present as single copies** in near-universal fashion across a given lineage.\n",
    "\n",
    "In my project, BUSCO was used to validate how biologically complete the assembled Ralstonia genome is.\n",
    "\n",
    "### 🧪 What BUSCO Reports\n",
    "\n",
    "BUSCO evaluates assemblies and reports results under four categories:\n",
    "- **Complete (C)** – genes found completely\n",
    "  -  **Single-copy (S)** – found once as expected\n",
    "  -  **Duplicated (D)** – found more than once\n",
    "-  **Fragmented (F)** – partially found\n",
    "-  **Missing (M)** – not found at all\n",
    "\n",
    "These results give insight into the **quality, coverage, and completeness** of your genome.\n",
    "\n",
    "\n",
    "###  BUSCO Installation (Docker)\n",
    "\n",
    "Since BUSCO is complex and requires dependencies (e.g., Augustus, HMMER), I used the **official Docker container**, which is simple and portable."
   ]
  },
  {
   "cell_type": "code",
   "execution_count": null,
   "id": "42a94090-d051-42ca-83f1-e76b61c479be",
   "metadata": {},
   "outputs": [],
   "source": [
    "# Pull the BUSCO image (only once)\n",
    "docker pull ezlabgva/busco:v5.8.2_cv1\n",
    "\n",
    "# Run BUSCO using Docker\n",
    "docker run \\\n",
    "  --platform linux/amd64 \\\n",
    "  -u $(id -u) \\\n",
    "  -v \"$(pwd)\":/busco_wd \\\n",
    "  ezlabgva/busco:v5.8.2_cv1 \\\n",
    "  busco \\\n",
    "  -i /busco_wd/Ralstonia_rathi_ragtag.fna \\\n",
    "  -o busco_results_for_ralstonia_ragtag \\\n",
    "  -m genome \\\n",
    "  -l bacteria_odb10 \\\n",
    "  -f\n"
   ]
  },
  {
   "cell_type": "code",
   "execution_count": null,
   "id": "a4cce4c3-bbf5-4872-80c1-bae9f624e196",
   "metadata": {},
   "outputs": [],
   "source": [
    "# The way another than docker\n",
    "# Creating a dedicated environment for BUSCO\n",
    "conda create -n busco_env -c bioconda -c conda-forge busco=5.4.3 -y\n",
    "conda activate busco_env\n",
    "\n",
    "# Download lineage dataset (e.g., for bacteria)\n",
    "busco download --lineage bacteria_odb10\n"
   ]
  },
  {
   "cell_type": "markdown",
   "id": "87dadb6f-8649-46c7-9076-29917c685e72",
   "metadata": {},
   "source": [
    "🔍 BUSCO Output & Interpretation\n",
    "After the initial SPAdes assembly, I ran BUSCO to assess genome completeness using the bacteria_odb10 lineage dataset. However, the completeness percentage was not ideal, suggesting gaps or misassemblies.\n",
    "\n",
    "This prompted a re-evaluation of the reference genome. I used ANI (Average Nucleotide Identity) to identify a closer reference genome, which turned out to be more appropriate for my Ralstonia isolate.\n",
    "\n",
    "Following that, I performed reference-guided scaffolding using RagTag, which significantly improved the assembly.\n",
    "\n",
    "After this step, I re-ran BUSCO on the RagTag-scaffolded assembly, which provided improved completeness scores, indicating that the updated assembly more accurately captured core bacterial genes. This validation step ensures confidence in downstream analyses like Prokka and InterProScan.\n",
    "\n",
    "BUSCO output includes:\n",
    "\n",
    "short_summary.specific.bacteria_odb10.busco_results_for_ralstonia_ragtag.txt: Summary completeness statistics\n",
    "\n",
    "full_table.tsv: Detailed BUSCO gene hits and statuses\n",
    "\n",
    "run_*: Folder with intermediate files, logs, and visualizations\n",
    "\n"
   ]
  },
  {
   "cell_type": "markdown",
   "id": "4a085106-39b1-49f9-bb42-66d6d49e489e",
   "metadata": {},
   "source": [
    "🧬 **Reference Genome Selection using FastANI**\n",
    "After running BUSCO on the SPAdes-assembled genome, the completeness scores were suboptimal. To improve genome quality, I performed Average Nucleotide Identity (ANI) analysis using FastANI to find the most closely related reference genome.\n",
    "\n",
    "I curated a dataset of 128 complete Ralstonia genomes from NCBI, each containing up to two contigs, and ran the following FastANI command:\n"
   ]
  },
  {
   "cell_type": "code",
   "execution_count": null,
   "id": "6af33983-95b4-4e27-bb65-1b5f8bd561ca",
   "metadata": {},
   "outputs": [],
   "source": [
    "fastANI \\\n",
    "  -q /Users/surajrathi/Downloads/Ralstonia/Ralstonia_Kristi/Assembly_annotation_suraj/Results/spades_assembly/contigs.fasta \\\n",
    "  -r /Users/surajrathi/Downloads/Ralstonia/Ralstonia_Kristi/Assembly_annotation_suraj/Data/ref/Ralstonia_ref_genome.fasta \\\n",
    "  -o final_fastani_outputold.txt \\\n",
    "  -t 8\n"
   ]
  },
  {
   "cell_type": "markdown",
   "id": "bc89b955-7c42-49e1-b782-3974c7682754",
   "metadata": {},
   "source": [
    "This helped identify the most appropriate reference genome with the highest ANI match. Using this reference, I performed reference-guided scaffolding using RagTag, which led to a significantly more complete and accurate assembly."
   ]
  },
  {
   "cell_type": "markdown",
   "id": "556c0355-4f89-4946-bead-2ed17a814902",
   "metadata": {},
   "source": [
    "🔄 Bulk File Management with GNU Parallel\n",
    "When working with multiple genome assemblies from NCBI, handling compressed .gz or .zip files individually becomes inefficient. To streamline this, I used GNU Parallel, a powerful tool for executing shell commands concurrently, drastically improving speed and ease of use.\n",
    "\n",
    "🛠️ Prerequisites (One-Time Setup)"
   ]
  },
  {
   "cell_type": "code",
   "execution_count": null,
   "id": "599c947f-19a4-44c9-839e-3600255fe541",
   "metadata": {},
   "outputs": [],
   "source": [
    "# Install GNU Parallel (if not already installed)\n",
    "conda install -c conda-forge parallel\n",
    "\n",
    "# Silence the citation warning\n",
    "parallel --citation\n"
   ]
  },
  {
   "cell_type": "markdown",
   "id": "00756771-41df-499f-ac5d-2488f1c60ab7",
   "metadata": {},
   "source": [
    "📦 1. Unzipping Files in Parallel\n",
    "I downloaded multiple .gz genome files from NCBI into:"
   ]
  },
  {
   "cell_type": "code",
   "execution_count": null,
   "id": "9839d575-4f26-4e5a-a832-7c75d749e243",
   "metadata": {},
   "outputs": [],
   "source": [
    "/Users/surajrathi/Downloads/Ralstonia/Ralstonia_Kristi/Assembly_annotation_suraj/Data/compressed_genomes\n"
   ]
  },
  {
   "cell_type": "markdown",
   "id": "90661f9f-3318-423e-b3fd-e375e1a442ee",
   "metadata": {},
   "source": [
    "To decompress all .gz files recursively within that folder, I used:"
   ]
  },
  {
   "cell_type": "code",
   "execution_count": null,
   "id": "d6415f20-f2aa-4abc-a494-97c9cb629db4",
   "metadata": {},
   "outputs": [],
   "source": [
    "# Define the directory containing compressed genomes\n",
    "SOURCE_COMPRESSED_DIR=\"/Users/surajrathi/Downloads/Ralstonia/Ralstonia_Kristi/Assembly_annotation_suraj/Data/compressed_genomes\"\n",
    "\n",
    "# Unzip all .gz files in parallel\n",
    "find \"${SOURCE_COMPRESSED_DIR}\" -type f -name \"*.gz\" | parallel gunzip {}\n"
   ]
  },
  {
   "cell_type": "markdown",
   "id": "78bd6ef6-6ece-4756-81ae-18bdaf1127f3",
   "metadata": {},
   "source": [
    "📁 2.Copying Specific Genomes Using GNU Parallel\n",
    "After extraction, I needed to collect all GCF_*.fna files into a single folder for downstream processing."
   ]
  },
  {
   "cell_type": "code",
   "execution_count": null,
   "id": "b32daa8a-b009-440c-b00e-e4bb8ac71056",
   "metadata": {},
   "outputs": [],
   "source": [
    "# Source and destination directories\n",
    "SOURCE_REF_DIR=\"/Users/surajrathi/Downloads/Ralstonia/Ralstonia_Kristi/Assembly_annotation_suraj/Data/ref/\"\n",
    "DEST_COLLECTED_DIR=\"/Users/surajrathi/Downloads/Ralstonia/Ralstonia_Kristi/Assembly_annotation_suraj/Data/collected_GCF_genomes/\"\n",
    "\n",
    "# Create destination directory if it doesn't exist\n",
    "mkdir -p \"${DEST_COLLECTED_DIR}\"\n",
    "\n",
    "# Copy all matching files in parallel\n",
    "find \"${SOURCE_REF_DIR}\" -type f -name \"GCF_*.fna\" | parallel cp {} \"${DEST_COLLECTED_DIR}\"\n"
   ]
  },
  {
   "cell_type": "markdown",
   "id": "78ae07a5-7acf-408a-aa38-b4a8abfc0917",
   "metadata": {},
   "source": [
    "## 🧬 Reference Genome Selection Using FastANI and Assembly Quality Metrics\n",
    "\n",
    "To identify a suitable reference genome for scaffolding, I performed Average Nucleotide Identity (ANI) comparison using **FastANI**. A total of 116 genomes were downloaded from NCBI and evaluated against the de novo assembled contigs.\n",
    "\n",
    "- **FastANI Analysis:**\n",
    "  - This step helped to identify genomes that are highly similar to my assembled genome.\n",
    "  - Seven genomes showed **ANI values greater than 99%**, indicating high sequence similarity.\n",
    "\n",
    "- **Evaluation Criteria:**\n",
    "  - From the high-ANI candidates, genomes were compared based on:\n",
    "    - **Completeness** (as assessed by BUSCO)\n",
    "    - **Sequencing depth** (from public datasets and associated publications)\n",
    "\n",
    "Based on these criteria, the **MAFF 211491** strain was selected as the reference genome for scaffolding with **RagTag**.\n",
    "\n",
    "### 🔍 About MAFF 211491:\n",
    "- This strain was isolated from a **ginger plant** and sequenced by **Kochi University**.\n",
    "- The sequencing strategy involved a **hybrid approach** using both **short reads and long reads** (Nanopore).\n",
    "- Assembly was carried out using **Unicycler**, which is well-suited for hybrid assembly tasks.\n",
    "- The genome exhibited **high completeness and depth**, making it a strong reference for improving scaffold continuity and structural accuracy.\n",
    "- \n",
    "This selection ensures a high-confidence reference backbone, which enhances the overall quality of downstream structural and functional genome analyses.\n"
   ]
  },
  {
   "cell_type": "markdown",
   "id": "addf5ed2-eedb-4346-ad79-ef75ddb576ba",
   "metadata": {},
   "source": [
    "**🧩 RagTag: Improving Assembly Using MAFF 211491 Reference**\n",
    "To improve the quality of my SPAdes assembly, I used RagTag with the reference genome MAFF 211491, which I selected based on higher completeness and depth. This strain was isolated from ginger and sequenced using a hybrid approach (long-read + short-read) by Kochi University (source: ASM Journal).\n",
    "\n",
    "This reference-guided scaffolding helps to order and orient the contigs from the SPAdes output, making the assembly more accurate and continuous.\n",
    "\n",
    "I ran the RagTag command inside a VM where I had already created and activated the ragtag_env."
   ]
  },
  {
   "cell_type": "code",
   "execution_count": null,
   "id": "8745a4f5-5d96-46af-bdeb-357f94683e11",
   "metadata": {},
   "outputs": [],
   "source": [
    "# Activating the ragtag environment\n",
    "conda activate ragtag_env\n",
    "\n",
    "# Running RagTag\n",
    "ragtag.py scaffold \\\n",
    "    reference_genomes/MAFF_211491_genomic.fna \\\n",
    "    my_spades_assembly/contigs.fasta \\\n",
    "    -o ragtag_scaffolded_MAFF_211491\n"
   ]
  },
  {
   "cell_type": "markdown",
   "id": "dc24467c-c348-41c1-9657-7184fd8fdd86",
   "metadata": {},
   "source": [
    "**This created a new folder ragtag_scaffolded_MAFF_211491/ which includes the scaffolded assembly and log files. This refined assembly was then used for annotation and BUSCO-based quality checking.**"
   ]
  },
  {
   "cell_type": "markdown",
   "id": "530577d5-6ba8-441a-b2c1-964929077620",
   "metadata": {},
   "source": [
    "📊 **QUAST Quality Check for RagTag Scaffolded Assembly**\n",
    "After improving the assembly using RagTag with MAFF 211491 as the reference, I performed a quality check using QUAST. This helps assess the assembly statistics such as total length, number of contigs, N50, GC content, etc.\n",
    "\n",
    "I ran the following command locally on my Mac terminal:"
   ]
  },
  {
   "cell_type": "code",
   "execution_count": null,
   "id": "118e6eb3-f942-43d7-a3ee-defb9595e049",
   "metadata": {},
   "outputs": [],
   "source": [
    "quast.py \\\n",
    " ./Results/spades_assembly/ragtag_scaffolded_MAFF_211491/ragtag.scaffold.fasta \\\n",
    " -o quast_ragtag_only_report_mac \\\n",
    " -l \"RagTag Scaffolded Assembly\" \\\n",
    " --min-contig 0\n"
   ]
  }
 ],
 "metadata": {
  "kernelspec": {
   "display_name": "Python 3 (ipykernel)",
   "language": "python",
   "name": "python3"
  },
  "language_info": {
   "codemirror_mode": {
    "name": "ipython",
    "version": 3
   },
   "file_extension": ".py",
   "mimetype": "text/x-python",
   "name": "python",
   "nbconvert_exporter": "python",
   "pygments_lexer": "ipython3",
   "version": "3.12.2"
  }
 },
 "nbformat": 4,
 "nbformat_minor": 5
}
