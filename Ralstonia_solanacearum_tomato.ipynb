{
 "cells": [
  {
   "cell_type": "markdown",
   "id": "a3fd8cc6-e8ba-4d99-944c-81d75a26182c",
   "metadata": {},
   "source": [
    "**This notebook covers all the code and operations performed during Ralstonia Solanacearum annotation project**"
   ]
  },
  {
   "cell_type": "markdown",
   "id": "2f9d9f4e-3570-4f74-a63d-a2c75c19218d",
   "metadata": {},
   "source": [
    "# Checking the quality of sequence : Fastq\n",
    "# for downloading, i have created a conda environment \"suraj_20\".\n",
    "# To make a environment:\n",
    "conda create -n suraj_20\n",
    "# Conda channels (a URL ) where conda look for packages.\n",
    "\n",
    "#URLs\n",
    "# defaults: \n",
    "[https://repo.anaconda.com/pkgs/main](https://repo.anaconda.com/pkgs/main)\n",
    "\n",
    "#conda-forge:\n",
    "[https://conda.anaconda.org/conda-forge](https://conda.anaconda.org/conda-forge)\n",
    "\n",
    "#bioconda:\n",
    "[https://conda.anaconda.org/bioconda](https://conda.anaconda.org/bioconda) \n",
    "\n",
    "#r:\n",
    "[https://conda.anaconda.org/r](https://conda.anaconda.org/r) \n",
    "\n",
    "#anaconda:\n",
    "[https://conda.anaconda.org/anaconda](https://conda.anaconda.org/anaconda) \n",
    "\n",
    "# 1. conda-forge\n",
    "# 2. bioconda: for biological processes:\n",
    "# ipykernel\n",
    "# !Jupyterlab"
   ]
  },
  {
   "cell_type": "code",
   "execution_count": null,
   "id": "a26a1e7b-2721-4369-9377-9c5f8188c96a",
   "metadata": {},
   "outputs": [],
   "source": [
    "# Anaconda commands\n",
    "\n",
    "#to add channel in base :\n",
    "conda config --add channels bioconda\n",
    "\n",
    "#List of configured channels:\n",
    "conda config --show channels\n",
    "\n",
    "#Remove channel:\n",
    "conda config --remove channel_name\n",
    "\n",
    "#create an environment:\n",
    "conda create -n suraj_20\n",
    "\n",
    "#List of existing environments:\n",
    "conda env list\n",
    "\n",
    "#to activate an environment:\n",
    "conda activate suraj_20\n",
    "\n",
    "#to deactivate and return to base:\n",
    "conda deactivate\n",
    "\n",
    "#Installing a tool:\n",
    "conda install -c bioconda fastqc\n",
    "\n",
    "# to remove an environment\n",
    "conda remove --name ENV_NAME --all"
   ]
  },
  {
   "cell_type": "code",
   "execution_count": null,
   "id": "f1c15ead-481a-496e-bccc-8986647bb5ec",
   "metadata": {},
   "outputs": [],
   "source": [
    "# Step 1\n",
    "# To download fastqc\n",
    "conda install -c bioconda fastqc\n",
    "fastqc --help\n"
   ]
  },
  {
   "cell_type": "code",
   "execution_count": null,
   "id": "bed0f466-e073-45c3-82a9-2e560a946ecd",
   "metadata": {},
   "outputs": [],
   "source": [
    "#fastqc command\n",
    "!fastqc *.fastq -o ..Results/fastq\n"
   ]
  },
  {
   "cell_type": "code",
   "execution_count": null,
   "id": "c4736796-6a75-49cb-a9e4-a6d495eb8729",
   "metadata": {},
   "outputs": [],
   "source": [
    "# Step 2\n",
    "# Filtering the data\n",
    "# for that i have used trimmomatic: "
   ]
  },
  {
   "cell_type": "markdown",
   "id": "ac031122-69e0-47f3-8198-34a47ceec7e7",
   "metadata": {},
   "source": [
    "## Trimmomatic\n",
    "\n",
    "Trimmomatic is a fast, flexible tool designed for trimming Illumina NGS data. It removes low-quality bases, adapter contamination, and short reads to improve downstream analysis like genome assembly or alignment. It supports both single-end and paired-end data.\n",
    "\n",
    "In this pipeline, Trimmomatic was used to:\n",
    "- Remove Illumina adapter sequences\n",
    "- Trim low-quality bases from the read ends\n",
    "- Discard very short reads"
   ]
  },
  {
   "cell_type": "code",
   "execution_count": null,
   "id": "d9d520ff-3a11-4cc0-893b-52dff7406e1e",
   "metadata": {},
   "outputs": [],
   "source": [
    "# to install trimmomatic:\n",
    "conda install -c bioconda trimmomatic\n",
    "!trimmomatic --help"
   ]
  },
  {
   "cell_type": "raw",
   "id": "00a20770-b433-4544-8776-78bdd6745d1c",
   "metadata": {},
   "source": [
    "## 🔧 Trimmomatic Command for Paired-End Read Trimming\n",
    "\n",
    "This command runs **Trimmomatic** to clean paired-end sequencing reads by:\n",
    "- Removing adapter contamination\n",
    "- Trimming low-quality regions\n",
    "- Discarding short reads"
   ]
  },
  {
   "cell_type": "code",
   "execution_count": null,
   "id": "701daa03-0f41-43b6-86d2-811a9c5f3762",
   "metadata": {},
   "outputs": [],
   "source": [
    "trimmomatic PE G1_R1.fastq G1_R2.fastq \\\n",
    "../../Results/trimmomatic/G1_R1_paired.fastq.gz \\\n",
    "../../Results/trimmomatic/G1_R1_unpaired.fastq.gz \\\n",
    "../../Results/trimmomatic/G1_R2_paired.fastq.gz \\\n",
    "../../Results/trimmomatic/G1_R2_unpaired.fastq.gz \\\n",
    "SLIDINGWINDOW:4:20 MINLEN:25 ILLUMINACLIP:NexteraPE-PE.fa:2:40:15\n"
   ]
  },
  {
   "cell_type": "markdown",
   "id": "1412f9f2-2de8-4079-b7f8-ef6d033336dd",
   "metadata": {},
   "source": [
    "### Command Explanation:\n",
    "PE – Run mode: Paired-End\n",
    "\n",
    "Input – G1_R1.fastq and G1_R2.fastq\n",
    "\n",
    "Output (paired) – Cleaned paired reads\n",
    "\n",
    "Output (unpaired) – Reads whose mates were discarded\n",
    "\n",
    "SLIDINGWINDOW:4:20 – Trim when 4-base window average quality < 20\n",
    "\n",
    "MINLEN:25 – Drop reads shorter than 25 bases\n",
    "\n",
    "ILLUMINACLIP – Remove Nextera adapters using the adapter file"
   ]
  },
  {
   "cell_type": "markdown",
   "id": "c7906782-603a-49ba-8301-6e56de23897c",
   "metadata": {},
   "source": [
    "**Step 3**\n",
    "**Genome Assembly**\n",
    "\n",
    "## 🧬 What is Genome Assembly?\n",
    "\n",
    "**Genome assembly** is the process of putting together short DNA sequences (called **reads**) generated by sequencing machines into longer sequences that represent the original genome.\n",
    "\n",
    "Think of it like solving a jigsaw puzzle:\n",
    "- Each read is a small puzzle piece.\n",
    "- Assembly algorithms figure out how these pieces fit together based on overlapping regions.\n",
    "\n",
    "### Why Is It Needed?\n",
    "\n",
    "Sequencing machines (like Illumina) cannot read an entire genome in one go. Instead, they break it into millions of short reads, and genome assembly helps to:\n",
    "\n",
    "- **Reconstruct the full genome** from these reads\n",
    "- **Identify genes, mutations, and structure**\n",
    "- **Enable annotation, comparison, and evolutionary analysis**\n",
    "\n",
    "### Types of Assembly\n",
    "\n",
    "**De novo** : Builds genome from reads **without any reference** \n",
    "**Reference-based** :  Aligns reads to a **known reference genome** \n",
    "\n",
    "In this project, we used **de novo assembly** with the tool **SPAdes** to assemble our Ralstonia genome without using a reference.\n"
   ]
  },
  {
   "cell_type": "markdown",
   "id": "7a819c56-5d6b-4df3-9026-53bc3159829b",
   "metadata": {},
   "source": [
    "## 🧬 SPAdes Assembly – Run on Google Cloud Virtual Machine (VM)\n",
    "\n",
    "Running **SPAdes** for de novo genome assembly is computationally intensive and can take several hours. It is not ideal for local systems due to high memory and CPU requirements. Therefore, I used a **Google Cloud Virtual Machine (VM)** to perform the assembly process.\n",
    "\n",
    "---\n",
    "\n",
    "### 🖥️ VM Configuration\n",
    "\n",
    "I configured the VM with:\n",
    "- **4 vCPUs**\n",
    "- **16 GB RAM**\n",
    "\n",
    "This machine type handled SPAdes efficiently. The entire assembly process took **around 8 hours**, which is expected for medium-sized bacterial genomes.\n",
    "\n",
    "---\n",
    "\n",
    "### SPAdes Installation (Download on VM)\n",
    "\n",
    "Since SPAdes is not pre-installed, I first created a clean conda environment and then installed SPAdes using Bioconda:"
   ]
  },
  {
   "cell_type": "code",
   "execution_count": null,
   "id": "6468d045-ba0b-41aa-878d-c8f6e8c159f8",
   "metadata": {},
   "outputs": [],
   "source": [
    "# Create a new conda environment named spades_env\n",
    "conda create -n spades_env -c bioconda spades -y\n",
    "\n",
    "# Activate the environment\n",
    "conda activate spades_env\n",
    "\n",
    "# Confirm installation\n",
    "spades.py --version"
   ]
  },
  {
   "cell_type": "code",
   "execution_count": null,
   "id": "22b346c6-e5a8-40c6-850f-771f19e17c87",
   "metadata": {},
   "outputs": [],
   "source": [
    "# After quality trimming with Trimmomatic, I ran the following command:\n",
    "spades.py \\\n",
    "-1 ../../Results/trimmomatic/G1_R1_paired.fastq.gz \\\n",
    "-2 ../../Results/trimmomatic/G1_R2_paired.fastq.gz \\\n",
    "-o ../../Results/spades_assembly"
   ]
  },
  {
   "cell_type": "code",
   "execution_count": null,
   "id": "283db742-fcef-42a3-bb4c-a37de066b0a1",
   "metadata": {},
   "outputs": [],
   "source": [
    "# I used tmux to prevent loss of progress in case of disconnection during the long SPAdes run:\n",
    "\n",
    "tmux new -s spades_session\n",
    "\n",
    "#After launching SPAdes inside the session, I detached using Ctrl + B then D. This allowed the job to continue running safely in the background even after I logged out.\n"
   ]
  },
  {
   "cell_type": "markdown",
   "id": "45ef90ab-839d-4dcc-b29a-63a24df6ff03",
   "metadata": {},
   "source": [
    "**Spades Output files**: \n",
    "\n",
    "**contigs.fasta**: Contiguous sequences\n",
    "\n",
    "**scaffolds.fasta**: Scaffolded sequences (using paired-end data)\n",
    "\n",
    "**spades.log**: Log file of the assembly\n",
    "\n"
   ]
  },
  {
   "cell_type": "markdown",
   "id": "73fa1bcf-efe7-4e6a-b221-53c32f3c71b7",
   "metadata": {},
   "source": [
    "**Step 4**\n",
    "\n",
    "## 🧪 Quality Check of SPAdes Assembly\n",
    "\n",
    "After completing the SPAdes assembly, I performed quality checks using two tools:\n",
    "\n",
    "1. **QUAST** – to assess the structural quality of the assembly\n",
    "2. **BUSCO** – to check the biological completeness using conserved single-copy genes"
   ]
  },
  {
   "cell_type": "code",
   "execution_count": null,
   "id": "c8f7f298-0752-4f07-bf0a-2d92acc290c5",
   "metadata": {},
   "outputs": [],
   "source": [
    "# QUAST (Quality Assessment Tool): installation \n",
    "\n",
    "#To run QUAST smoothly, I created a dedicated Conda environment:\n",
    "\n",
    "conda create -n quast_env -c bioconda quast -y\n",
    "conda activate quast_env"
   ]
  },
  {
   "cell_type": "markdown",
   "id": "2c787ae7-f410-49da-8db6-3c6e0184e6ee",
   "metadata": {},
   "source": [
    "QUAST helps evaluate how well the genome is assembled based on metrics like:\n",
    "\n",
    "N50, L50: measure contiguity of contigs\n",
    "\n",
    "Total length of the assembly\n",
    "\n",
    "Number of contigs\n",
    "\n",
    "GC content\n",
    "\n",
    "Largest contig size"
   ]
  },
  {
   "cell_type": "code",
   "execution_count": null,
   "id": "dec281ac-6a9f-40d9-8ff6-8709aac185ac",
   "metadata": {},
   "outputs": [],
   "source": [
    "#Quast command: \n",
    "quast.py \\\n",
    "./Results/spades_assembly/ragtag_scaffolded_GMI1000/ragtag.scaffold.fasta \\\n",
    "-o quast_ragtag_only_report_mac \\\n",
    "-l \"RagTag Scaffolded Assembly\" \\\n",
    "--min-contig 0\n"
   ]
  },
  {
   "cell_type": "markdown",
   "id": "c9e6ba18-ac5c-4e36-80ce-a8c5f5a61f32",
   "metadata": {},
   "source": [
    "## 🧬 BUSCO – Biological Completeness Assessment\n",
    "\n",
    "**BUSCO** (Benchmarking Universal Single-Copy Orthologs) is a powerful tool used to assess the **completeness** of a genome assembly or gene annotation. It checks for the presence of genes that are **highly conserved and expected to be present as single copies** in near-universal fashion across a given lineage.\n",
    "\n",
    "In my project, BUSCO was used to validate how biologically complete the assembled Ralstonia genome is.\n",
    "\n",
    "### 🧪 What BUSCO Reports\n",
    "\n",
    "BUSCO evaluates assemblies and reports results under four categories:\n",
    "- **Complete (C)** – genes found completely\n",
    "  -  **Single-copy (S)** – found once as expected\n",
    "  -  **Duplicated (D)** – found more than once\n",
    "-  **Fragmented (F)** – partially found\n",
    "-  **Missing (M)** – not found at all\n",
    "\n",
    "These results give insight into the **quality, coverage, and completeness** of your genome.\n",
    "\n",
    "\n",
    "###  BUSCO Installation (Docker)\n",
    "\n",
    "Since BUSCO is complex and requires dependencies (e.g., Augustus, HMMER), I used the **official Docker container**, which is simple and portable."
   ]
  },
  {
   "cell_type": "code",
   "execution_count": null,
   "id": "42a94090-d051-42ca-83f1-e76b61c479be",
   "metadata": {},
   "outputs": [],
   "source": [
    "# Pull the BUSCO image (only once)\n",
    "docker pull ezlabgva/busco:v5.8.2_cv1\n",
    "\n",
    "# Run BUSCO using Docker\n",
    "docker run \\\n",
    "  --platform linux/amd64 \\\n",
    "  -u $(id -u) \\\n",
    "  -v \"$(pwd)\":/busco_wd \\\n",
    "  ezlabgva/busco:v5.8.2_cv1 \\\n",
    "  busco \\\n",
    "  -i /busco_wd/Ralstonia_rathi_ragtag.fna \\\n",
    "  -o busco_results_for_ralstonia_ragtag \\\n",
    "  -m genome \\\n",
    "  -l bacteria_odb10 \\\n",
    "  -f\n"
   ]
  },
  {
   "cell_type": "code",
   "execution_count": null,
   "id": "a4cce4c3-bbf5-4872-80c1-bae9f624e196",
   "metadata": {},
   "outputs": [],
   "source": [
    "# The way another than docker\n",
    "# Create a dedicated environment\n",
    "conda create -n busco_env -c bioconda -c conda-forge busco=5.4.3 -y\n",
    "conda activate busco_env\n",
    "\n",
    "# Download lineage dataset (e.g., for bacteria)\n",
    "busco download --lineage bacteria_odb10\n"
   ]
  },
  {
   "cell_type": "markdown",
   "id": "dac79e4c-ac95-4058-8bc1-06edd6dbebcf",
   "metadata": {},
   "source": [
    "After running, BUSCO generates:\n",
    "\n",
    "**short_summary.specific.bacteria_odb10.busco_results_for_ralstonia_ragtag.txt:** A quick summary with completeness %\n",
    "\n",
    "**full_table.tsv:** Detailed gene-by-gene BUSCO matches\n",
    "\n",
    "**run_*:** Folder with intermediate files, logs, and result visualizations\n",
    "\n",
    "This quality check validated that my SPAdes assembly captured the expected bacterial core genes, ensuring that downstream functional annotation is meaningful."
   ]
  },
  {
   "cell_type": "code",
   "execution_count": null,
   "id": "1f144155-6fce-4074-8fd6-d804cf53be3a",
   "metadata": {},
   "outputs": [],
   "source": []
  }
 ],
 "metadata": {
  "kernelspec": {
   "display_name": "Python 3 (ipykernel)",
   "language": "python",
   "name": "python3"
  },
  "language_info": {
   "codemirror_mode": {
    "name": "ipython",
    "version": 3
   },
   "file_extension": ".py",
   "mimetype": "text/x-python",
   "name": "python",
   "nbconvert_exporter": "python",
   "pygments_lexer": "ipython3",
   "version": "3.12.2"
  }
 },
 "nbformat": 4,
 "nbformat_minor": 5
}
